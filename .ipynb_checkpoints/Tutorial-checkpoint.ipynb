{
 "cells": [
  {
   "cell_type": "markdown",
   "id": "742027b8",
   "metadata": {},
   "source": [
    "This tutorial provides simple examples to learn how to use the functions provided by Preprocesspack package. First we are going to load the modules needed."
   ]
  },
  {
   "cell_type": "code",
   "execution_count": 1,
   "id": "881880ca",
   "metadata": {},
   "outputs": [],
   "source": [
    "from preprocesspack import utils, Attribute, DataSet, graphics"
   ]
  },
  {
   "cell_type": "markdown",
   "id": "8081d41a",
   "metadata": {},
   "source": [
    "First we are going to create an Attribute object. There are several ways of creating an object. In this example we have created three Attributes."
   ]
  },
  {
   "cell_type": "code",
   "execution_count": 2,
   "id": "f26e92da",
   "metadata": {},
   "outputs": [
    {
     "name": "stdout",
     "output_type": "stream",
     "text": [
      "age\n",
      "34\n",
      "16\n",
      "78\n",
      "90\n",
      "12\n"
     ]
    }
   ],
   "source": [
    "attr=Attribute.Attribute(name=\"age\",vector=[34,16,78,90,12])\n",
    "attrContinuous=Attribute.Attribute(name=\"mark\",vector=[1.2,3.4,6.7,8.9,4.7])\n",
    "attrPass=Attribute.Attribute(name=\"pass\",vector=[0,0,1,1,0])\n",
    "\n",
    "attr.printAttribute()"
   ]
  },
  {
   "cell_type": "markdown",
   "id": "4518b3c9",
   "metadata": {},
   "source": [
    "\n",
    "To create a DataSet we can add a previously defined attribute or pass a vector. The name of each column will be the attribute name."
   ]
  },
  {
   "cell_type": "code",
   "execution_count": 3,
   "id": "e59f7a7e",
   "metadata": {},
   "outputs": [
    {
     "name": "stdout",
     "output_type": "stream",
     "text": [
      "age     \tmark    \tpass    \t\n",
      "34\t\t1.2\t\t0\t\t\n",
      "16\t\t3.4\t\t0\t\t\n",
      "78\t\t6.7\t\t1\t\t\n",
      "90\t\t8.9\t\t1\t\t\n",
      "12\t\t4.7\t\t0\t\t\n",
      "\n"
     ]
    }
   ],
   "source": [
    "ds=DataSet.DataSet([],name=\"Students\")\n",
    "ds.addAttribute(attr)\n",
    "ds.addAttribute(attrContinuous)\n",
    "ds.addAttribute(attrPass)\n",
    "ds.printDataSet()"
   ]
  },
  {
   "cell_type": "markdown",
   "id": "a048d92a",
   "metadata": {},
   "source": [
    "From now on the tutorial will focus in how to use the preprocesspack in an external DataSet. We will use a DataSet called wine data that includes the information (alcohol quantity, color intensity, magnesium...) of two wine types. In this step we have loaded the data from a csv file using loadDataSet function. This function loads the csv file content into a DataSet. In this example the loaded file is separated by , and the first row works as the column name for the file."
   ]
  },
  {
   "cell_type": "code",
   "execution_count": 4,
   "id": "1551ef6b",
   "metadata": {},
   "outputs": [
    {
     "name": "stdout",
     "output_type": "stream",
     "text": [
      "Class   \tAlcohol \tMalid ac\tAsh     \tAlcalini\tMagnesiu\t Total p\t\n",
      "0\t\t14.23\t\t1.71\t\t2.43\t\t15.6\t\t127\t\t2.8\t\t\n",
      "0\t\t13.2\t\t1.78\t\t2.14\t\t11.2\t\t100\t\t2.65\t\t\n",
      "0\t\t13.16\t\t2.36\t\t2.67\t\t18.6\t\t101\t\t2.8\t\t\n",
      "0\t\t14.37\t\t1.95\t\t2.5\t\t16.8\t\t113\t\t3.85\t\t\n",
      "0\t\t13.24\t\t2.59\t\t2.87\t\t21.0\t\t118\t\t2.8\t\t\n",
      "0\t\t14.2\t\t1.76\t\t2.45\t\t15.2\t\t112\t\t3.27\t\t\n",
      "0\t\t14.39\t\t1.87\t\t2.45\t\t14.6\t\t96\t\t2.5\t\t\n",
      "0\t\t14.06\t\t2.15\t\t2.61\t\t17.6\t\t121\t\t2.6\t\t\n",
      "0\t\t14.83\t\t1.64\t\t2.17\t\t14.0\t\t97\t\t2.8\t\t\n",
      "0\t\t13.86\t\t1.35\t\t2.27\t\t16.0\t\t98\t\t2.98\t\t\n",
      "0\t\t14.1\t\t2.16\t\t2.3\t\t18.0\t\t105\t\t2.95\t\t\n",
      "0\t\t14.12\t\t1.48\t\t2.32\t\t16.8\t\t95\t\t2.2\t\t\n",
      "0\t\t13.75\t\t1.73\t\t2.41\t\t16.0\t\t89\t\t2.6\t\t\n",
      "0\t\t14.75\t\t1.73\t\t2.39\t\t11.4\t\t91\t\t3.1\t\t\n",
      "0\t\t14.38\t\t1.87\t\t2.38\t\t12.0\t\t102\t\t3.3\t\t\n",
      "0\t\t13.63\t\t1.81\t\t2.7\t\t17.2\t\t112\t\t2.85\t\t\n",
      "0\t\t14.3\t\t1.92\t\t2.72\t\t20.0\t\t120\t\t2.8\t\t\n",
      "0\t\t13.83\t\t1.57\t\t2.62\t\t20.0\t\t115\t\t2.95\t\t\n",
      "0\t\t14.19\t\t1.59\t\t2.48\t\t16.5\t\t108\t\t3.3\t\t\n",
      "0\t\t13.64\t\t3.1\t\t2.56\t\t15.2\t\t116\t\t2.7\t\t\n",
      "1\t\t12.37\t\t0.94\t\t1.36\t\t10.6\t\t88\t\t1.98\t\t\n",
      "1\t\t12.33\t\t1.1\t\t2.28\t\t16.0\t\t101\t\t2.05\t\t\n",
      "1\t\t12.64\t\t1.36\t\t2.02\t\t16.8\t\t100\t\t2.02\t\t\n",
      "1\t\t13.67\t\t1.25\t\t1.92\t\t18.0\t\t94\t\t2.1\t\t\n",
      "1\t\t12.37\t\t1.13\t\t2.16\t\t19.0\t\t87\t\t3.5\t\t\n",
      "1\t\t12.17\t\t1.45\t\t2.53\t\t19.0\t\t104\t\t1.89\t\t\n",
      "1\t\t12.37\t\t1.21\t\t2.56\t\t18.1\t\t98\t\t2.42\t\t\n",
      "1\t\t13.11\t\t1.01\t\t1.7\t\t15.0\t\t78\t\t2.98\t\t\n",
      "1\t\t12.37\t\t1.17\t\t1.92\t\t19.6\t\t78\t\t2.11\t\t\n",
      "1\t\t13.34\t\t0.94\t\t2.36\t\t17.0\t\t110\t\t2.53\t\t\n",
      "1\t\t12.21\t\t1.19\t\t1.75\t\t16.8\t\t151\t\t1.85\t\t\n",
      "1\t\t12.29\t\t1.61\t\t2.21\t\t20.4\t\t103\t\t1.1\t\t\n",
      "1\t\t13.86\t\t1.51\t\t2.67\t\t25.0\t\t86\t\t2.95\t\t\n",
      "1\t\t13.49\t\t1.66\t\t2.24\t\t24.0\t\t87\t\t1.88\t\t\n",
      "1\t\t12.99\t\t1.67\t\t2.6\t\t30.0\t\t139\t\t3.3\t\t\n",
      "1\t\t11.96\t\t1.09\t\t2.3\t\t21.0\t\t101\t\t3.38\t\t\n",
      "1\t\t11.66\t\t1.88\t\t1.92\t\t16.0\t\t97\t\t1.61\t\t\n",
      "1\t\t13.03\t\t0.9\t\t1.71\t\t16.0\t\t86\t\t1.95\t\t\n",
      "1\t\t11.84\t\t2.89\t\t2.23\t\t18.0\t\t112\t\t1.72\t\t\n",
      "1\t\t12.33\t\t0.99\t\t1.95\t\t14.8\t\t136\t\t1.9\t\t\n",
      "1\t\t12.7\t\t3.87\t\t2.4\t\t23.0\t\t101\t\t2.83\t\t\n",
      "\n"
     ]
    }
   ],
   "source": [
    "wineData=DataSet.loadDataSet(\"wine_data_reduced.csv\")\n",
    "wineData.printDataSet()"
   ]
  },
  {
   "cell_type": "markdown",
   "id": "eee48b0b",
   "metadata": {},
   "source": [
    "The first step with this DataSet will be to discretize the Alcohol and Magnesium columns of the data, as it can be easily noticed that both can be divided into three intervals. DataSet and Attribute objects can be discretized using the function discretize. This function computes two types of discretization: on the one hand, by assigning the \"EW\" value to the type parameter equal width discretization is computed. On the other hand, assigning \"EF\" value to the parameter computes equal width discretization. Num.bins parameter indicates how many intervals are going to be made. In the following example we will compute an equal width discretization of the both columns (2 and 6). Moreover, we will compute an Equal Frecuency discretization in the last attribute, using num.bins=5"
   ]
  },
  {
   "cell_type": "code",
   "execution_count": 5,
   "id": "2f4fa019",
   "metadata": {
    "scrolled": false
   },
   "outputs": [
    {
     "name": "stdout",
     "output_type": "stream",
     "text": [
      "8\n",
      "16\n",
      "24\n",
      "32\n",
      "40\n",
      "Class   \tAlcohol \tMalid ac\tAsh     \tAlcalini\tMagnesiu\t Total p\t\n",
      "0\t\t(13.773333333333333, inf)\t\t1.71\t\t2.43\t\t15.6\t\t(126.66666666666666, inf)\t\t(2.8, 3.5)\t\t\n",
      "0\t\t(12.716666666666667, 13.773333333333333)\t\t1.78\t\t2.14\t\t11.2\t\t(-inf, 102.33333333333333)\t\t(-inf, 2.8)\t\t\n",
      "0\t\t(12.716666666666667, 13.773333333333333)\t\t2.36\t\t2.67\t\t18.6\t\t(-inf, 102.33333333333333)\t\t(2.8, 3.5)\t\t\n",
      "0\t\t(13.773333333333333, inf)\t\t1.95\t\t2.5\t\t16.8\t\t(102.33333333333333, 126.66666666666666)\t\t(2.95, inf)\t\t\n",
      "0\t\t(12.716666666666667, 13.773333333333333)\t\t2.59\t\t2.87\t\t21.0\t\t(102.33333333333333, 126.66666666666666)\t\t(2.8, 3.5)\t\t\n",
      "0\t\t(13.773333333333333, inf)\t\t1.76\t\t2.45\t\t15.2\t\t(102.33333333333333, 126.66666666666666)\t\t(2.95, inf)\t\t\n",
      "0\t\t(13.773333333333333, inf)\t\t1.87\t\t2.45\t\t14.6\t\t(-inf, 102.33333333333333)\t\t(-inf, 2.8)\t\t\n",
      "0\t\t(13.773333333333333, inf)\t\t2.15\t\t2.61\t\t17.6\t\t(102.33333333333333, 126.66666666666666)\t\t(-inf, 2.8)\t\t\n",
      "0\t\t(13.773333333333333, inf)\t\t1.64\t\t2.17\t\t14.0\t\t(-inf, 102.33333333333333)\t\t(2.8, 3.5)\t\t\n",
      "0\t\t(13.773333333333333, inf)\t\t1.35\t\t2.27\t\t16.0\t\t(-inf, 102.33333333333333)\t\t(2.95, inf)\t\t\n",
      "0\t\t(13.773333333333333, inf)\t\t2.16\t\t2.3\t\t18.0\t\t(102.33333333333333, 126.66666666666666)\t\t(2.95, inf)\t\t\n",
      "0\t\t(13.773333333333333, inf)\t\t1.48\t\t2.32\t\t16.8\t\t(-inf, 102.33333333333333)\t\t(-inf, 2.8)\t\t\n",
      "0\t\t(12.716666666666667, 13.773333333333333)\t\t1.73\t\t2.41\t\t16.0\t\t(-inf, 102.33333333333333)\t\t(-inf, 2.8)\t\t\n",
      "0\t\t(13.773333333333333, inf)\t\t1.73\t\t2.39\t\t11.4\t\t(-inf, 102.33333333333333)\t\t(2.95, inf)\t\t\n",
      "0\t\t(13.773333333333333, inf)\t\t1.87\t\t2.38\t\t12.0\t\t(-inf, 102.33333333333333)\t\t(2.95, inf)\t\t\n",
      "0\t\t(12.716666666666667, 13.773333333333333)\t\t1.81\t\t2.7\t\t17.2\t\t(102.33333333333333, 126.66666666666666)\t\t(2.8, 3.5)\t\t\n",
      "0\t\t(13.773333333333333, inf)\t\t1.92\t\t2.72\t\t20.0\t\t(102.33333333333333, 126.66666666666666)\t\t(2.8, 3.5)\t\t\n",
      "0\t\t(13.773333333333333, inf)\t\t1.57\t\t2.62\t\t20.0\t\t(102.33333333333333, 126.66666666666666)\t\t(2.95, inf)\t\t\n",
      "0\t\t(13.773333333333333, inf)\t\t1.59\t\t2.48\t\t16.5\t\t(102.33333333333333, 126.66666666666666)\t\t(2.95, inf)\t\t\n",
      "0\t\t(12.716666666666667, 13.773333333333333)\t\t3.1\t\t2.56\t\t15.2\t\t(102.33333333333333, 126.66666666666666)\t\t(-inf, 2.8)\t\t\n",
      "1\t\t(-inf, 12.716666666666667)\t\t0.94\t\t1.36\t\t10.6\t\t(-inf, 102.33333333333333)\t\t(-inf, 2.8)\t\t\n",
      "1\t\t(-inf, 12.716666666666667)\t\t1.1\t\t2.28\t\t16.0\t\t(-inf, 102.33333333333333)\t\t(-inf, 2.8)\t\t\n",
      "1\t\t(-inf, 12.716666666666667)\t\t1.36\t\t2.02\t\t16.8\t\t(-inf, 102.33333333333333)\t\t(-inf, 2.8)\t\t\n",
      "1\t\t(12.716666666666667, 13.773333333333333)\t\t1.25\t\t1.92\t\t18.0\t\t(-inf, 102.33333333333333)\t\t(-inf, 2.8)\t\t\n",
      "1\t\t(-inf, 12.716666666666667)\t\t1.13\t\t2.16\t\t19.0\t\t(-inf, 102.33333333333333)\t\t(2.95, inf)\t\t\n",
      "1\t\t(-inf, 12.716666666666667)\t\t1.45\t\t2.53\t\t19.0\t\t(102.33333333333333, 126.66666666666666)\t\t(-inf, 2.8)\t\t\n",
      "1\t\t(-inf, 12.716666666666667)\t\t1.21\t\t2.56\t\t18.1\t\t(-inf, 102.33333333333333)\t\t(-inf, 2.8)\t\t\n",
      "1\t\t(12.716666666666667, 13.773333333333333)\t\t1.01\t\t1.7\t\t15.0\t\t(-inf, 102.33333333333333)\t\t(2.95, inf)\t\t\n",
      "1\t\t(-inf, 12.716666666666667)\t\t1.17\t\t1.92\t\t19.6\t\t(-inf, 102.33333333333333)\t\t(-inf, 2.8)\t\t\n",
      "1\t\t(12.716666666666667, 13.773333333333333)\t\t0.94\t\t2.36\t\t17.0\t\t(102.33333333333333, 126.66666666666666)\t\t(-inf, 2.8)\t\t\n",
      "1\t\t(-inf, 12.716666666666667)\t\t1.19\t\t1.75\t\t16.8\t\t(126.66666666666666, inf)\t\t(-inf, 2.8)\t\t\n",
      "1\t\t(-inf, 12.716666666666667)\t\t1.61\t\t2.21\t\t20.4\t\t(102.33333333333333, 126.66666666666666)\t\t(-inf, 2.8)\t\t\n",
      "1\t\t(13.773333333333333, inf)\t\t1.51\t\t2.67\t\t25.0\t\t(-inf, 102.33333333333333)\t\t(2.95, inf)\t\t\n",
      "1\t\t(12.716666666666667, 13.773333333333333)\t\t1.66\t\t2.24\t\t24.0\t\t(-inf, 102.33333333333333)\t\t(-inf, 2.8)\t\t\n",
      "1\t\t(12.716666666666667, 13.773333333333333)\t\t1.67\t\t2.6\t\t30.0\t\t(126.66666666666666, inf)\t\t(2.95, inf)\t\t\n",
      "1\t\t(-inf, 12.716666666666667)\t\t1.09\t\t2.3\t\t21.0\t\t(-inf, 102.33333333333333)\t\t(2.95, inf)\t\t\n",
      "1\t\t(-inf, 12.716666666666667)\t\t1.88\t\t1.92\t\t16.0\t\t(-inf, 102.33333333333333)\t\t(-inf, 2.8)\t\t\n",
      "1\t\t(12.716666666666667, 13.773333333333333)\t\t0.9\t\t1.71\t\t16.0\t\t(-inf, 102.33333333333333)\t\t(-inf, 2.8)\t\t\n",
      "1\t\t(-inf, 12.716666666666667)\t\t2.89\t\t2.23\t\t18.0\t\t(102.33333333333333, 126.66666666666666)\t\t(-inf, 2.8)\t\t\n",
      "1\t\t(-inf, 12.716666666666667)\t\t0.99\t\t1.95\t\t14.8\t\t(126.66666666666666, inf)\t\t(-inf, 2.8)\t\t\n",
      "1\t\t(-inf, 12.716666666666667)\t\t3.87\t\t2.4\t\t23.0\t\t(-inf, 102.33333333333333)\t\t(2.8, 3.5)\t\t\n",
      "\n"
     ]
    }
   ],
   "source": [
    "\n",
    "wineData=wineData.discretize(3,\"EW\",[1,5])\n",
    "wineData=wineData.discretize(5,\"EF\",[6])\n",
    "wineData.printDataSet()"
   ]
  },
  {
   "cell_type": "markdown",
   "id": "d4d9dcd7",
   "metadata": {},
   "source": [
    "Single attributes can also be discretized:\n"
   ]
  },
  {
   "cell_type": "code",
   "execution_count": 6,
   "id": "3ec288e0",
   "metadata": {},
   "outputs": [
    {
     "name": "stdout",
     "output_type": "stream",
     "text": [
      "age\n",
      "(-inf, 51.0)\n",
      "(-inf, 51.0)\n",
      "(51.0, inf)\n",
      "(51.0, inf)\n",
      "(-inf, 51.0)\n"
     ]
    }
   ],
   "source": [
    "attr=Attribute.Attribute(name=\"age\",vector=[34,16,78,90,12])\n",
    "age_category=attr.discretize(2,\"EW\")\n",
    "age_category.printAttribute()\n"
   ]
  },
  {
   "cell_type": "markdown",
   "id": "b0e78d61",
   "metadata": {},
   "source": [
    "The function normalize is used to normalize the data or an attribute. When applied to a DataSet, columns parameter indicate to which columns the normalization have to be applied. In this case I will apply it to the following columns: 2,3,4,6. "
   ]
  },
  {
   "cell_type": "code",
   "execution_count": 7,
   "id": "b4c6c60e",
   "metadata": {
    "scrolled": false
   },
   "outputs": [
    {
     "name": "stdout",
     "output_type": "stream",
     "text": [
      "Class   \tAlcohol \tMalid ac\tAsh     \tAlcalini\tMagnesiu\t Total p\t\n",
      "0\t\t(13.773333333333333, inf)\t\t1.71\t\t2.43\t\t15.6\t\t(126.66666666666666, inf)\t\t(2.8, 3.5)\t\t\n",
      "0\t\t(12.716666666666667, 13.773333333333333)\t\t1.78\t\t2.14\t\t11.2\t\t(-inf, 102.33333333333333)\t\t(-inf, 2.8)\t\t\n",
      "0\t\t(12.716666666666667, 13.773333333333333)\t\t2.36\t\t2.67\t\t18.6\t\t(-inf, 102.33333333333333)\t\t(2.8, 3.5)\t\t\n",
      "0\t\t(13.773333333333333, inf)\t\t1.95\t\t2.5\t\t16.8\t\t(102.33333333333333, 126.66666666666666)\t\t(2.95, inf)\t\t\n",
      "0\t\t(12.716666666666667, 13.773333333333333)\t\t2.59\t\t2.87\t\t21.0\t\t(102.33333333333333, 126.66666666666666)\t\t(2.8, 3.5)\t\t\n",
      "0\t\t(13.773333333333333, inf)\t\t1.76\t\t2.45\t\t15.2\t\t(102.33333333333333, 126.66666666666666)\t\t(2.95, inf)\t\t\n",
      "0\t\t(13.773333333333333, inf)\t\t1.87\t\t2.45\t\t14.6\t\t(-inf, 102.33333333333333)\t\t(-inf, 2.8)\t\t\n",
      "0\t\t(13.773333333333333, inf)\t\t2.15\t\t2.61\t\t17.6\t\t(102.33333333333333, 126.66666666666666)\t\t(-inf, 2.8)\t\t\n",
      "0\t\t(13.773333333333333, inf)\t\t1.64\t\t2.17\t\t14.0\t\t(-inf, 102.33333333333333)\t\t(2.8, 3.5)\t\t\n",
      "0\t\t(13.773333333333333, inf)\t\t1.35\t\t2.27\t\t16.0\t\t(-inf, 102.33333333333333)\t\t(2.95, inf)\t\t\n",
      "0\t\t(13.773333333333333, inf)\t\t2.16\t\t2.3\t\t18.0\t\t(102.33333333333333, 126.66666666666666)\t\t(2.95, inf)\t\t\n",
      "0\t\t(13.773333333333333, inf)\t\t1.48\t\t2.32\t\t16.8\t\t(-inf, 102.33333333333333)\t\t(-inf, 2.8)\t\t\n",
      "0\t\t(12.716666666666667, 13.773333333333333)\t\t1.73\t\t2.41\t\t16.0\t\t(-inf, 102.33333333333333)\t\t(-inf, 2.8)\t\t\n",
      "0\t\t(13.773333333333333, inf)\t\t1.73\t\t2.39\t\t11.4\t\t(-inf, 102.33333333333333)\t\t(2.95, inf)\t\t\n",
      "0\t\t(13.773333333333333, inf)\t\t1.87\t\t2.38\t\t12.0\t\t(-inf, 102.33333333333333)\t\t(2.95, inf)\t\t\n",
      "0\t\t(12.716666666666667, 13.773333333333333)\t\t1.81\t\t2.7\t\t17.2\t\t(102.33333333333333, 126.66666666666666)\t\t(2.8, 3.5)\t\t\n",
      "0\t\t(13.773333333333333, inf)\t\t1.92\t\t2.72\t\t20.0\t\t(102.33333333333333, 126.66666666666666)\t\t(2.8, 3.5)\t\t\n",
      "0\t\t(13.773333333333333, inf)\t\t1.57\t\t2.62\t\t20.0\t\t(102.33333333333333, 126.66666666666666)\t\t(2.95, inf)\t\t\n",
      "0\t\t(13.773333333333333, inf)\t\t1.59\t\t2.48\t\t16.5\t\t(102.33333333333333, 126.66666666666666)\t\t(2.95, inf)\t\t\n",
      "0\t\t(12.716666666666667, 13.773333333333333)\t\t3.1\t\t2.56\t\t15.2\t\t(102.33333333333333, 126.66666666666666)\t\t(-inf, 2.8)\t\t\n",
      "1\t\t(-inf, 12.716666666666667)\t\t0.94\t\t1.36\t\t10.6\t\t(-inf, 102.33333333333333)\t\t(-inf, 2.8)\t\t\n",
      "1\t\t(-inf, 12.716666666666667)\t\t1.1\t\t2.28\t\t16.0\t\t(-inf, 102.33333333333333)\t\t(-inf, 2.8)\t\t\n",
      "1\t\t(-inf, 12.716666666666667)\t\t1.36\t\t2.02\t\t16.8\t\t(-inf, 102.33333333333333)\t\t(-inf, 2.8)\t\t\n",
      "1\t\t(12.716666666666667, 13.773333333333333)\t\t1.25\t\t1.92\t\t18.0\t\t(-inf, 102.33333333333333)\t\t(-inf, 2.8)\t\t\n",
      "1\t\t(-inf, 12.716666666666667)\t\t1.13\t\t2.16\t\t19.0\t\t(-inf, 102.33333333333333)\t\t(2.95, inf)\t\t\n",
      "1\t\t(-inf, 12.716666666666667)\t\t1.45\t\t2.53\t\t19.0\t\t(102.33333333333333, 126.66666666666666)\t\t(-inf, 2.8)\t\t\n",
      "1\t\t(-inf, 12.716666666666667)\t\t1.21\t\t2.56\t\t18.1\t\t(-inf, 102.33333333333333)\t\t(-inf, 2.8)\t\t\n",
      "1\t\t(12.716666666666667, 13.773333333333333)\t\t1.01\t\t1.7\t\t15.0\t\t(-inf, 102.33333333333333)\t\t(2.95, inf)\t\t\n",
      "1\t\t(-inf, 12.716666666666667)\t\t1.17\t\t1.92\t\t19.6\t\t(-inf, 102.33333333333333)\t\t(-inf, 2.8)\t\t\n",
      "1\t\t(12.716666666666667, 13.773333333333333)\t\t0.94\t\t2.36\t\t17.0\t\t(102.33333333333333, 126.66666666666666)\t\t(-inf, 2.8)\t\t\n",
      "1\t\t(-inf, 12.716666666666667)\t\t1.19\t\t1.75\t\t16.8\t\t(126.66666666666666, inf)\t\t(-inf, 2.8)\t\t\n",
      "1\t\t(-inf, 12.716666666666667)\t\t1.61\t\t2.21\t\t20.4\t\t(102.33333333333333, 126.66666666666666)\t\t(-inf, 2.8)\t\t\n",
      "1\t\t(13.773333333333333, inf)\t\t1.51\t\t2.67\t\t25.0\t\t(-inf, 102.33333333333333)\t\t(2.95, inf)\t\t\n",
      "1\t\t(12.716666666666667, 13.773333333333333)\t\t1.66\t\t2.24\t\t24.0\t\t(-inf, 102.33333333333333)\t\t(-inf, 2.8)\t\t\n",
      "1\t\t(12.716666666666667, 13.773333333333333)\t\t1.67\t\t2.6\t\t30.0\t\t(126.66666666666666, inf)\t\t(2.95, inf)\t\t\n",
      "1\t\t(-inf, 12.716666666666667)\t\t1.09\t\t2.3\t\t21.0\t\t(-inf, 102.33333333333333)\t\t(2.95, inf)\t\t\n",
      "1\t\t(-inf, 12.716666666666667)\t\t1.88\t\t1.92\t\t16.0\t\t(-inf, 102.33333333333333)\t\t(-inf, 2.8)\t\t\n",
      "1\t\t(12.716666666666667, 13.773333333333333)\t\t0.9\t\t1.71\t\t16.0\t\t(-inf, 102.33333333333333)\t\t(-inf, 2.8)\t\t\n",
      "1\t\t(-inf, 12.716666666666667)\t\t2.89\t\t2.23\t\t18.0\t\t(102.33333333333333, 126.66666666666666)\t\t(-inf, 2.8)\t\t\n",
      "1\t\t(-inf, 12.716666666666667)\t\t0.99\t\t1.95\t\t14.8\t\t(126.66666666666666, inf)\t\t(-inf, 2.8)\t\t\n",
      "1\t\t(-inf, 12.716666666666667)\t\t3.87\t\t2.4\t\t23.0\t\t(-inf, 102.33333333333333)\t\t(2.8, 3.5)\t\t\n",
      "\n"
     ]
    }
   ],
   "source": [
    "wineDataNormalized=wineData.normalize([2,3,4,6])\n",
    "wineDataNormalized.printDataSet()"
   ]
  },
  {
   "cell_type": "markdown",
   "id": "ba2da4f4",
   "metadata": {},
   "source": [
    "If the columns parameter is empty and the normalize function is applied to the hole DataSet it will return the original attribute if applied to categorical attributes and will normalize the rest."
   ]
  },
  {
   "cell_type": "code",
   "execution_count": 8,
   "id": "cc0dd087",
   "metadata": {},
   "outputs": [
    {
     "name": "stdout",
     "output_type": "stream",
     "text": [
      "Class   \tAlcohol \tMalid ac\tAsh     \tAlcalini\tMagnesiu\t Total p\t\n",
      "0\t\t(13.773333333333333, inf)\t\t1.71\t\t2.43\t\t15.6\t\t(126.66666666666666, inf)\t\t(2.8, 3.5)\t\t\n",
      "0\t\t(12.716666666666667, 13.773333333333333)\t\t1.78\t\t2.14\t\t11.2\t\t(-inf, 102.33333333333333)\t\t(-inf, 2.8)\t\t\n",
      "0\t\t(12.716666666666667, 13.773333333333333)\t\t2.36\t\t2.67\t\t18.6\t\t(-inf, 102.33333333333333)\t\t(2.8, 3.5)\t\t\n",
      "0\t\t(13.773333333333333, inf)\t\t1.95\t\t2.5\t\t16.8\t\t(102.33333333333333, 126.66666666666666)\t\t(2.95, inf)\t\t\n",
      "0\t\t(12.716666666666667, 13.773333333333333)\t\t2.59\t\t2.87\t\t21.0\t\t(102.33333333333333, 126.66666666666666)\t\t(2.8, 3.5)\t\t\n",
      "0\t\t(13.773333333333333, inf)\t\t1.76\t\t2.45\t\t15.2\t\t(102.33333333333333, 126.66666666666666)\t\t(2.95, inf)\t\t\n",
      "0\t\t(13.773333333333333, inf)\t\t1.87\t\t2.45\t\t14.6\t\t(-inf, 102.33333333333333)\t\t(-inf, 2.8)\t\t\n",
      "0\t\t(13.773333333333333, inf)\t\t2.15\t\t2.61\t\t17.6\t\t(102.33333333333333, 126.66666666666666)\t\t(-inf, 2.8)\t\t\n",
      "0\t\t(13.773333333333333, inf)\t\t1.64\t\t2.17\t\t14.0\t\t(-inf, 102.33333333333333)\t\t(2.8, 3.5)\t\t\n",
      "0\t\t(13.773333333333333, inf)\t\t1.35\t\t2.27\t\t16.0\t\t(-inf, 102.33333333333333)\t\t(2.95, inf)\t\t\n",
      "0\t\t(13.773333333333333, inf)\t\t2.16\t\t2.3\t\t18.0\t\t(102.33333333333333, 126.66666666666666)\t\t(2.95, inf)\t\t\n",
      "0\t\t(13.773333333333333, inf)\t\t1.48\t\t2.32\t\t16.8\t\t(-inf, 102.33333333333333)\t\t(-inf, 2.8)\t\t\n",
      "0\t\t(12.716666666666667, 13.773333333333333)\t\t1.73\t\t2.41\t\t16.0\t\t(-inf, 102.33333333333333)\t\t(-inf, 2.8)\t\t\n",
      "0\t\t(13.773333333333333, inf)\t\t1.73\t\t2.39\t\t11.4\t\t(-inf, 102.33333333333333)\t\t(2.95, inf)\t\t\n",
      "0\t\t(13.773333333333333, inf)\t\t1.87\t\t2.38\t\t12.0\t\t(-inf, 102.33333333333333)\t\t(2.95, inf)\t\t\n",
      "0\t\t(12.716666666666667, 13.773333333333333)\t\t1.81\t\t2.7\t\t17.2\t\t(102.33333333333333, 126.66666666666666)\t\t(2.8, 3.5)\t\t\n",
      "0\t\t(13.773333333333333, inf)\t\t1.92\t\t2.72\t\t20.0\t\t(102.33333333333333, 126.66666666666666)\t\t(2.8, 3.5)\t\t\n",
      "0\t\t(13.773333333333333, inf)\t\t1.57\t\t2.62\t\t20.0\t\t(102.33333333333333, 126.66666666666666)\t\t(2.95, inf)\t\t\n",
      "0\t\t(13.773333333333333, inf)\t\t1.59\t\t2.48\t\t16.5\t\t(102.33333333333333, 126.66666666666666)\t\t(2.95, inf)\t\t\n",
      "0\t\t(12.716666666666667, 13.773333333333333)\t\t3.1\t\t2.56\t\t15.2\t\t(102.33333333333333, 126.66666666666666)\t\t(-inf, 2.8)\t\t\n",
      "1\t\t(-inf, 12.716666666666667)\t\t0.94\t\t1.36\t\t10.6\t\t(-inf, 102.33333333333333)\t\t(-inf, 2.8)\t\t\n",
      "1\t\t(-inf, 12.716666666666667)\t\t1.1\t\t2.28\t\t16.0\t\t(-inf, 102.33333333333333)\t\t(-inf, 2.8)\t\t\n",
      "1\t\t(-inf, 12.716666666666667)\t\t1.36\t\t2.02\t\t16.8\t\t(-inf, 102.33333333333333)\t\t(-inf, 2.8)\t\t\n",
      "1\t\t(12.716666666666667, 13.773333333333333)\t\t1.25\t\t1.92\t\t18.0\t\t(-inf, 102.33333333333333)\t\t(-inf, 2.8)\t\t\n",
      "1\t\t(-inf, 12.716666666666667)\t\t1.13\t\t2.16\t\t19.0\t\t(-inf, 102.33333333333333)\t\t(2.95, inf)\t\t\n",
      "1\t\t(-inf, 12.716666666666667)\t\t1.45\t\t2.53\t\t19.0\t\t(102.33333333333333, 126.66666666666666)\t\t(-inf, 2.8)\t\t\n",
      "1\t\t(-inf, 12.716666666666667)\t\t1.21\t\t2.56\t\t18.1\t\t(-inf, 102.33333333333333)\t\t(-inf, 2.8)\t\t\n",
      "1\t\t(12.716666666666667, 13.773333333333333)\t\t1.01\t\t1.7\t\t15.0\t\t(-inf, 102.33333333333333)\t\t(2.95, inf)\t\t\n",
      "1\t\t(-inf, 12.716666666666667)\t\t1.17\t\t1.92\t\t19.6\t\t(-inf, 102.33333333333333)\t\t(-inf, 2.8)\t\t\n",
      "1\t\t(12.716666666666667, 13.773333333333333)\t\t0.94\t\t2.36\t\t17.0\t\t(102.33333333333333, 126.66666666666666)\t\t(-inf, 2.8)\t\t\n",
      "1\t\t(-inf, 12.716666666666667)\t\t1.19\t\t1.75\t\t16.8\t\t(126.66666666666666, inf)\t\t(-inf, 2.8)\t\t\n",
      "1\t\t(-inf, 12.716666666666667)\t\t1.61\t\t2.21\t\t20.4\t\t(102.33333333333333, 126.66666666666666)\t\t(-inf, 2.8)\t\t\n",
      "1\t\t(13.773333333333333, inf)\t\t1.51\t\t2.67\t\t25.0\t\t(-inf, 102.33333333333333)\t\t(2.95, inf)\t\t\n",
      "1\t\t(12.716666666666667, 13.773333333333333)\t\t1.66\t\t2.24\t\t24.0\t\t(-inf, 102.33333333333333)\t\t(-inf, 2.8)\t\t\n",
      "1\t\t(12.716666666666667, 13.773333333333333)\t\t1.67\t\t2.6\t\t30.0\t\t(126.66666666666666, inf)\t\t(2.95, inf)\t\t\n",
      "1\t\t(-inf, 12.716666666666667)\t\t1.09\t\t2.3\t\t21.0\t\t(-inf, 102.33333333333333)\t\t(2.95, inf)\t\t\n",
      "1\t\t(-inf, 12.716666666666667)\t\t1.88\t\t1.92\t\t16.0\t\t(-inf, 102.33333333333333)\t\t(-inf, 2.8)\t\t\n",
      "1\t\t(12.716666666666667, 13.773333333333333)\t\t0.9\t\t1.71\t\t16.0\t\t(-inf, 102.33333333333333)\t\t(-inf, 2.8)\t\t\n",
      "1\t\t(-inf, 12.716666666666667)\t\t2.89\t\t2.23\t\t18.0\t\t(102.33333333333333, 126.66666666666666)\t\t(-inf, 2.8)\t\t\n",
      "1\t\t(-inf, 12.716666666666667)\t\t0.99\t\t1.95\t\t14.8\t\t(126.66666666666666, inf)\t\t(-inf, 2.8)\t\t\n",
      "1\t\t(-inf, 12.716666666666667)\t\t3.87\t\t2.4\t\t23.0\t\t(-inf, 102.33333333333333)\t\t(2.8, 3.5)\t\t\n",
      "\n"
     ]
    }
   ],
   "source": [
    "wineDataNormalized=wineData.normalize()\n",
    "wineDataNormalized.printDataSet()"
   ]
  },
  {
   "cell_type": "markdown",
   "id": "1b9a8718",
   "metadata": {},
   "source": [
    "Single attributes can also be normalized. If the attribute is categorical the result will be the original attribute"
   ]
  },
  {
   "cell_type": "code",
   "execution_count": 9,
   "id": "e0058bf0",
   "metadata": {},
   "outputs": [
    {
     "name": "stdout",
     "output_type": "stream",
     "text": [
      "mark\n",
      "0.0\n",
      "1.8333333333333335\n",
      "4.583333333333334\n",
      "6.416666666666667\n",
      "2.916666666666667\n",
      "age\n",
      "(-inf, 51.0)\n",
      "(-inf, 51.0)\n",
      "(51.0, inf)\n",
      "(51.0, inf)\n",
      "(-inf, 51.0)\n"
     ]
    }
   ],
   "source": [
    "attrNorm=attrContinuous.normalize()\n",
    "attrNorm.printAttribute()\n",
    "\n",
    "attrNorm=age_category.normalize()\n",
    "attrNorm.printAttribute()\n"
   ]
  },
  {
   "cell_type": "markdown",
   "id": "610a4efd",
   "metadata": {},
   "source": [
    "To standardize the data or an attribute the function standardize can be used. When applied to a DataSet, columns parameter indicate to which columns the normalization have to be applied. In this case I will apply it to the following columns: 2,3,4,6.\n"
   ]
  },
  {
   "cell_type": "code",
   "execution_count": 10,
   "id": "80729ebc",
   "metadata": {},
   "outputs": [
    {
     "name": "stdout",
     "output_type": "stream",
     "text": [
      "Class   \tAlcohol \tMalid ac\tAsh     \tAlcalini\tMagnesiu\t Total p\t\n",
      "0\t\t(13.773333333333333, inf)\t\t1.71\t\t2.43\t\t15.6\t\t(126.66666666666666, inf)\t\t(2.8, 3.5)\t\t\n",
      "0\t\t(12.716666666666667, 13.773333333333333)\t\t1.78\t\t2.14\t\t11.2\t\t(-inf, 102.33333333333333)\t\t(-inf, 2.8)\t\t\n",
      "0\t\t(12.716666666666667, 13.773333333333333)\t\t2.36\t\t2.67\t\t18.6\t\t(-inf, 102.33333333333333)\t\t(2.8, 3.5)\t\t\n",
      "0\t\t(13.773333333333333, inf)\t\t1.95\t\t2.5\t\t16.8\t\t(102.33333333333333, 126.66666666666666)\t\t(2.95, inf)\t\t\n",
      "0\t\t(12.716666666666667, 13.773333333333333)\t\t2.59\t\t2.87\t\t21.0\t\t(102.33333333333333, 126.66666666666666)\t\t(2.8, 3.5)\t\t\n",
      "0\t\t(13.773333333333333, inf)\t\t1.76\t\t2.45\t\t15.2\t\t(102.33333333333333, 126.66666666666666)\t\t(2.95, inf)\t\t\n",
      "0\t\t(13.773333333333333, inf)\t\t1.87\t\t2.45\t\t14.6\t\t(-inf, 102.33333333333333)\t\t(-inf, 2.8)\t\t\n",
      "0\t\t(13.773333333333333, inf)\t\t2.15\t\t2.61\t\t17.6\t\t(102.33333333333333, 126.66666666666666)\t\t(-inf, 2.8)\t\t\n",
      "0\t\t(13.773333333333333, inf)\t\t1.64\t\t2.17\t\t14.0\t\t(-inf, 102.33333333333333)\t\t(2.8, 3.5)\t\t\n",
      "0\t\t(13.773333333333333, inf)\t\t1.35\t\t2.27\t\t16.0\t\t(-inf, 102.33333333333333)\t\t(2.95, inf)\t\t\n",
      "0\t\t(13.773333333333333, inf)\t\t2.16\t\t2.3\t\t18.0\t\t(102.33333333333333, 126.66666666666666)\t\t(2.95, inf)\t\t\n",
      "0\t\t(13.773333333333333, inf)\t\t1.48\t\t2.32\t\t16.8\t\t(-inf, 102.33333333333333)\t\t(-inf, 2.8)\t\t\n",
      "0\t\t(12.716666666666667, 13.773333333333333)\t\t1.73\t\t2.41\t\t16.0\t\t(-inf, 102.33333333333333)\t\t(-inf, 2.8)\t\t\n",
      "0\t\t(13.773333333333333, inf)\t\t1.73\t\t2.39\t\t11.4\t\t(-inf, 102.33333333333333)\t\t(2.95, inf)\t\t\n",
      "0\t\t(13.773333333333333, inf)\t\t1.87\t\t2.38\t\t12.0\t\t(-inf, 102.33333333333333)\t\t(2.95, inf)\t\t\n",
      "0\t\t(12.716666666666667, 13.773333333333333)\t\t1.81\t\t2.7\t\t17.2\t\t(102.33333333333333, 126.66666666666666)\t\t(2.8, 3.5)\t\t\n",
      "0\t\t(13.773333333333333, inf)\t\t1.92\t\t2.72\t\t20.0\t\t(102.33333333333333, 126.66666666666666)\t\t(2.8, 3.5)\t\t\n",
      "0\t\t(13.773333333333333, inf)\t\t1.57\t\t2.62\t\t20.0\t\t(102.33333333333333, 126.66666666666666)\t\t(2.95, inf)\t\t\n",
      "0\t\t(13.773333333333333, inf)\t\t1.59\t\t2.48\t\t16.5\t\t(102.33333333333333, 126.66666666666666)\t\t(2.95, inf)\t\t\n",
      "0\t\t(12.716666666666667, 13.773333333333333)\t\t3.1\t\t2.56\t\t15.2\t\t(102.33333333333333, 126.66666666666666)\t\t(-inf, 2.8)\t\t\n",
      "1\t\t(-inf, 12.716666666666667)\t\t0.94\t\t1.36\t\t10.6\t\t(-inf, 102.33333333333333)\t\t(-inf, 2.8)\t\t\n",
      "1\t\t(-inf, 12.716666666666667)\t\t1.1\t\t2.28\t\t16.0\t\t(-inf, 102.33333333333333)\t\t(-inf, 2.8)\t\t\n",
      "1\t\t(-inf, 12.716666666666667)\t\t1.36\t\t2.02\t\t16.8\t\t(-inf, 102.33333333333333)\t\t(-inf, 2.8)\t\t\n",
      "1\t\t(12.716666666666667, 13.773333333333333)\t\t1.25\t\t1.92\t\t18.0\t\t(-inf, 102.33333333333333)\t\t(-inf, 2.8)\t\t\n",
      "1\t\t(-inf, 12.716666666666667)\t\t1.13\t\t2.16\t\t19.0\t\t(-inf, 102.33333333333333)\t\t(2.95, inf)\t\t\n",
      "1\t\t(-inf, 12.716666666666667)\t\t1.45\t\t2.53\t\t19.0\t\t(102.33333333333333, 126.66666666666666)\t\t(-inf, 2.8)\t\t\n",
      "1\t\t(-inf, 12.716666666666667)\t\t1.21\t\t2.56\t\t18.1\t\t(-inf, 102.33333333333333)\t\t(-inf, 2.8)\t\t\n",
      "1\t\t(12.716666666666667, 13.773333333333333)\t\t1.01\t\t1.7\t\t15.0\t\t(-inf, 102.33333333333333)\t\t(2.95, inf)\t\t\n",
      "1\t\t(-inf, 12.716666666666667)\t\t1.17\t\t1.92\t\t19.6\t\t(-inf, 102.33333333333333)\t\t(-inf, 2.8)\t\t\n",
      "1\t\t(12.716666666666667, 13.773333333333333)\t\t0.94\t\t2.36\t\t17.0\t\t(102.33333333333333, 126.66666666666666)\t\t(-inf, 2.8)\t\t\n",
      "1\t\t(-inf, 12.716666666666667)\t\t1.19\t\t1.75\t\t16.8\t\t(126.66666666666666, inf)\t\t(-inf, 2.8)\t\t\n",
      "1\t\t(-inf, 12.716666666666667)\t\t1.61\t\t2.21\t\t20.4\t\t(102.33333333333333, 126.66666666666666)\t\t(-inf, 2.8)\t\t\n",
      "1\t\t(13.773333333333333, inf)\t\t1.51\t\t2.67\t\t25.0\t\t(-inf, 102.33333333333333)\t\t(2.95, inf)\t\t\n",
      "1\t\t(12.716666666666667, 13.773333333333333)\t\t1.66\t\t2.24\t\t24.0\t\t(-inf, 102.33333333333333)\t\t(-inf, 2.8)\t\t\n",
      "1\t\t(12.716666666666667, 13.773333333333333)\t\t1.67\t\t2.6\t\t30.0\t\t(126.66666666666666, inf)\t\t(2.95, inf)\t\t\n",
      "1\t\t(-inf, 12.716666666666667)\t\t1.09\t\t2.3\t\t21.0\t\t(-inf, 102.33333333333333)\t\t(2.95, inf)\t\t\n",
      "1\t\t(-inf, 12.716666666666667)\t\t1.88\t\t1.92\t\t16.0\t\t(-inf, 102.33333333333333)\t\t(-inf, 2.8)\t\t\n",
      "1\t\t(12.716666666666667, 13.773333333333333)\t\t0.9\t\t1.71\t\t16.0\t\t(-inf, 102.33333333333333)\t\t(-inf, 2.8)\t\t\n",
      "1\t\t(-inf, 12.716666666666667)\t\t2.89\t\t2.23\t\t18.0\t\t(102.33333333333333, 126.66666666666666)\t\t(-inf, 2.8)\t\t\n",
      "1\t\t(-inf, 12.716666666666667)\t\t0.99\t\t1.95\t\t14.8\t\t(126.66666666666666, inf)\t\t(-inf, 2.8)\t\t\n",
      "1\t\t(-inf, 12.716666666666667)\t\t3.87\t\t2.4\t\t23.0\t\t(-inf, 102.33333333333333)\t\t(2.8, 3.5)\t\t\n",
      "\n"
     ]
    }
   ],
   "source": [
    "wineDataStandardized=wineData.standardize([2,3,4,6])\n",
    "wineDataStandardized.printDataSet()"
   ]
  },
  {
   "cell_type": "markdown",
   "id": "3cd437cf",
   "metadata": {},
   "source": [
    "If the columns parameter is empty and the standardize function is applied to the hole DataSet it will return the original attribute if applied to categorical attributes and will standardize the rest."
   ]
  },
  {
   "cell_type": "code",
   "execution_count": 11,
   "id": "a59604b1",
   "metadata": {},
   "outputs": [
    {
     "name": "stdout",
     "output_type": "stream",
     "text": [
      "Class   \tAlcohol \tMalid ac\tAsh     \tAlcalini\tMagnesiu\t Total p\t\n",
      "0\t\t(13.773333333333333, inf)\t\t1.71\t\t2.43\t\t15.6\t\t(126.66666666666666, inf)\t\t(2.8, 3.5)\t\t\n",
      "0\t\t(12.716666666666667, 13.773333333333333)\t\t1.78\t\t2.14\t\t11.2\t\t(-inf, 102.33333333333333)\t\t(-inf, 2.8)\t\t\n",
      "0\t\t(12.716666666666667, 13.773333333333333)\t\t2.36\t\t2.67\t\t18.6\t\t(-inf, 102.33333333333333)\t\t(2.8, 3.5)\t\t\n",
      "0\t\t(13.773333333333333, inf)\t\t1.95\t\t2.5\t\t16.8\t\t(102.33333333333333, 126.66666666666666)\t\t(2.95, inf)\t\t\n",
      "0\t\t(12.716666666666667, 13.773333333333333)\t\t2.59\t\t2.87\t\t21.0\t\t(102.33333333333333, 126.66666666666666)\t\t(2.8, 3.5)\t\t\n",
      "0\t\t(13.773333333333333, inf)\t\t1.76\t\t2.45\t\t15.2\t\t(102.33333333333333, 126.66666666666666)\t\t(2.95, inf)\t\t\n",
      "0\t\t(13.773333333333333, inf)\t\t1.87\t\t2.45\t\t14.6\t\t(-inf, 102.33333333333333)\t\t(-inf, 2.8)\t\t\n",
      "0\t\t(13.773333333333333, inf)\t\t2.15\t\t2.61\t\t17.6\t\t(102.33333333333333, 126.66666666666666)\t\t(-inf, 2.8)\t\t\n",
      "0\t\t(13.773333333333333, inf)\t\t1.64\t\t2.17\t\t14.0\t\t(-inf, 102.33333333333333)\t\t(2.8, 3.5)\t\t\n",
      "0\t\t(13.773333333333333, inf)\t\t1.35\t\t2.27\t\t16.0\t\t(-inf, 102.33333333333333)\t\t(2.95, inf)\t\t\n",
      "0\t\t(13.773333333333333, inf)\t\t2.16\t\t2.3\t\t18.0\t\t(102.33333333333333, 126.66666666666666)\t\t(2.95, inf)\t\t\n",
      "0\t\t(13.773333333333333, inf)\t\t1.48\t\t2.32\t\t16.8\t\t(-inf, 102.33333333333333)\t\t(-inf, 2.8)\t\t\n",
      "0\t\t(12.716666666666667, 13.773333333333333)\t\t1.73\t\t2.41\t\t16.0\t\t(-inf, 102.33333333333333)\t\t(-inf, 2.8)\t\t\n",
      "0\t\t(13.773333333333333, inf)\t\t1.73\t\t2.39\t\t11.4\t\t(-inf, 102.33333333333333)\t\t(2.95, inf)\t\t\n",
      "0\t\t(13.773333333333333, inf)\t\t1.87\t\t2.38\t\t12.0\t\t(-inf, 102.33333333333333)\t\t(2.95, inf)\t\t\n",
      "0\t\t(12.716666666666667, 13.773333333333333)\t\t1.81\t\t2.7\t\t17.2\t\t(102.33333333333333, 126.66666666666666)\t\t(2.8, 3.5)\t\t\n",
      "0\t\t(13.773333333333333, inf)\t\t1.92\t\t2.72\t\t20.0\t\t(102.33333333333333, 126.66666666666666)\t\t(2.8, 3.5)\t\t\n",
      "0\t\t(13.773333333333333, inf)\t\t1.57\t\t2.62\t\t20.0\t\t(102.33333333333333, 126.66666666666666)\t\t(2.95, inf)\t\t\n",
      "0\t\t(13.773333333333333, inf)\t\t1.59\t\t2.48\t\t16.5\t\t(102.33333333333333, 126.66666666666666)\t\t(2.95, inf)\t\t\n",
      "0\t\t(12.716666666666667, 13.773333333333333)\t\t3.1\t\t2.56\t\t15.2\t\t(102.33333333333333, 126.66666666666666)\t\t(-inf, 2.8)\t\t\n",
      "1\t\t(-inf, 12.716666666666667)\t\t0.94\t\t1.36\t\t10.6\t\t(-inf, 102.33333333333333)\t\t(-inf, 2.8)\t\t\n",
      "1\t\t(-inf, 12.716666666666667)\t\t1.1\t\t2.28\t\t16.0\t\t(-inf, 102.33333333333333)\t\t(-inf, 2.8)\t\t\n",
      "1\t\t(-inf, 12.716666666666667)\t\t1.36\t\t2.02\t\t16.8\t\t(-inf, 102.33333333333333)\t\t(-inf, 2.8)\t\t\n",
      "1\t\t(12.716666666666667, 13.773333333333333)\t\t1.25\t\t1.92\t\t18.0\t\t(-inf, 102.33333333333333)\t\t(-inf, 2.8)\t\t\n",
      "1\t\t(-inf, 12.716666666666667)\t\t1.13\t\t2.16\t\t19.0\t\t(-inf, 102.33333333333333)\t\t(2.95, inf)\t\t\n",
      "1\t\t(-inf, 12.716666666666667)\t\t1.45\t\t2.53\t\t19.0\t\t(102.33333333333333, 126.66666666666666)\t\t(-inf, 2.8)\t\t\n",
      "1\t\t(-inf, 12.716666666666667)\t\t1.21\t\t2.56\t\t18.1\t\t(-inf, 102.33333333333333)\t\t(-inf, 2.8)\t\t\n",
      "1\t\t(12.716666666666667, 13.773333333333333)\t\t1.01\t\t1.7\t\t15.0\t\t(-inf, 102.33333333333333)\t\t(2.95, inf)\t\t\n",
      "1\t\t(-inf, 12.716666666666667)\t\t1.17\t\t1.92\t\t19.6\t\t(-inf, 102.33333333333333)\t\t(-inf, 2.8)\t\t\n",
      "1\t\t(12.716666666666667, 13.773333333333333)\t\t0.94\t\t2.36\t\t17.0\t\t(102.33333333333333, 126.66666666666666)\t\t(-inf, 2.8)\t\t\n",
      "1\t\t(-inf, 12.716666666666667)\t\t1.19\t\t1.75\t\t16.8\t\t(126.66666666666666, inf)\t\t(-inf, 2.8)\t\t\n",
      "1\t\t(-inf, 12.716666666666667)\t\t1.61\t\t2.21\t\t20.4\t\t(102.33333333333333, 126.66666666666666)\t\t(-inf, 2.8)\t\t\n",
      "1\t\t(13.773333333333333, inf)\t\t1.51\t\t2.67\t\t25.0\t\t(-inf, 102.33333333333333)\t\t(2.95, inf)\t\t\n",
      "1\t\t(12.716666666666667, 13.773333333333333)\t\t1.66\t\t2.24\t\t24.0\t\t(-inf, 102.33333333333333)\t\t(-inf, 2.8)\t\t\n",
      "1\t\t(12.716666666666667, 13.773333333333333)\t\t1.67\t\t2.6\t\t30.0\t\t(126.66666666666666, inf)\t\t(2.95, inf)\t\t\n",
      "1\t\t(-inf, 12.716666666666667)\t\t1.09\t\t2.3\t\t21.0\t\t(-inf, 102.33333333333333)\t\t(2.95, inf)\t\t\n",
      "1\t\t(-inf, 12.716666666666667)\t\t1.88\t\t1.92\t\t16.0\t\t(-inf, 102.33333333333333)\t\t(-inf, 2.8)\t\t\n",
      "1\t\t(12.716666666666667, 13.773333333333333)\t\t0.9\t\t1.71\t\t16.0\t\t(-inf, 102.33333333333333)\t\t(-inf, 2.8)\t\t\n",
      "1\t\t(-inf, 12.716666666666667)\t\t2.89\t\t2.23\t\t18.0\t\t(102.33333333333333, 126.66666666666666)\t\t(-inf, 2.8)\t\t\n",
      "1\t\t(-inf, 12.716666666666667)\t\t0.99\t\t1.95\t\t14.8\t\t(126.66666666666666, inf)\t\t(-inf, 2.8)\t\t\n",
      "1\t\t(-inf, 12.716666666666667)\t\t3.87\t\t2.4\t\t23.0\t\t(-inf, 102.33333333333333)\t\t(2.8, 3.5)\t\t\n",
      "\n"
     ]
    }
   ],
   "source": [
    "wineDataStandardized=wineData.standardize()\n",
    "wineDataStandardized.printDataSet()"
   ]
  },
  {
   "cell_type": "markdown",
   "id": "e2d55f8e",
   "metadata": {},
   "source": [
    "Single attributes can also be standardized. If the attribute is categorical the result will be the original attribute"
   ]
  },
  {
   "cell_type": "code",
   "execution_count": 12,
   "id": "59ec06c6",
   "metadata": {},
   "outputs": [
    {
     "name": "stdout",
     "output_type": "stream",
     "text": [
      "mark\n",
      "-1.4248840017881383\n",
      "-0.5955864346098569\n",
      "0.6483599161575655\n",
      "1.4776574833358471\n",
      "-0.10554696309541775\n",
      "age\n",
      "(-inf, 51.0)\n",
      "(-inf, 51.0)\n",
      "(51.0, inf)\n",
      "(51.0, inf)\n",
      "(-inf, 51.0)\n"
     ]
    }
   ],
   "source": [
    "attrStd=attrContinuous.standardize()\n",
    "attrStd.printAttribute()\n",
    "\n",
    "attrStd=age_category.standardize()\n",
    "attrStd.printAttribute()\n"
   ]
  },
  {
   "cell_type": "markdown",
   "id": "0e38aa44",
   "metadata": {},
   "source": [
    "Entropy function computes the entropy of an Attribute or a complete DataSet. In the case of continuous variables it returns None. The entropy of a given DataSet can be plotted using the entropyPlot function. In the following example we have computed the entropy of the Wine Data dataset, as there are only 4 categorical or discrete variables we have only 4 results."
   ]
  },
  {
   "cell_type": "code",
   "execution_count": 13,
   "id": "1ef86b0e",
   "metadata": {},
   "outputs": [
    {
     "name": "stdout",
     "output_type": "stream",
     "text": [
      "[0.9995708393473224, 1.5788720570183736, None, None, None, 1.3247497144200895, 1.4552137931890252]\n"
     ]
    },
    {
     "data": {
      "image/png": "[encoded data removed]",
      "text/plain": [
       "<Figure size 432x288 with 1 Axes>"
      ]
     },
     "metadata": {
      "needs_background": "light"
     },
     "output_type": "display_data"
    }
   ],
   "source": [
    "print(str(wineData.entropy()))\n",
    "graphics.entropyPlot(wineData)"
   ]
  },
  {
   "cell_type": "markdown",
   "id": "1860b83c",
   "metadata": {},
   "source": [
    "The entropy of single attributes can also be computed. If the attribute is not categorical the result will be None."
   ]
  },
  {
   "cell_type": "code",
   "execution_count": 14,
   "id": "2a3b4ed5",
   "metadata": {},
   "outputs": [
    {
     "name": "stdout",
     "output_type": "stream",
     "text": [
      "None\n",
      "0.9709505944546686\n"
     ]
    }
   ],
   "source": [
    "print(attrContinuous.entropy())\n",
    "print (age_category.entropy())"
   ]
  },
  {
   "cell_type": "markdown",
   "id": "808df945",
   "metadata": {},
   "source": [
    "The package also includes a function to compute the variance of a DataDet or an Attribute. The variance function returns a vector with the variance of each column of the DataSet or a value in the case of the Attribute. If the attribute is a factor it will return None."
   ]
  },
  {
   "cell_type": "code",
   "execution_count": 15,
   "id": "821c2825",
   "metadata": {},
   "outputs": [
    {
     "name": "stdout",
     "output_type": "stream",
     "text": [
      "[0.2498512790005949, None, 0.37029541939321836, 0.10231171921475313, 13.642629387269485, None, None]\n"
     ]
    }
   ],
   "source": [
    "print(wineData.variance())"
   ]
  },
  {
   "cell_type": "markdown",
   "id": "60e5aa9a",
   "metadata": {},
   "source": [
    "The variance function can also be applied to Attributes.\n"
   ]
  },
  {
   "cell_type": "code",
   "execution_count": 16,
   "id": "013877be",
   "metadata": {},
   "outputs": [
    {
     "name": "stdout",
     "output_type": "stream",
     "text": [
      "7.0376\n",
      "None\n"
     ]
    }
   ],
   "source": [
    "print(attrContinuous.variance())\n",
    "print (age_category.variance())"
   ]
  },
  {
   "cell_type": "markdown",
   "id": "33fe7791",
   "metadata": {},
   "source": [
    "In order to analyze the relation between the data, the correlation function computes the correlation between the Attribute pairs of a DataSet. It calculates the correlation matrix between continuous variables and the mutual information between categorical ones. In the case where one of the variables is categorical and the other one discrete a discretization is computed in the continuous one. The parameters of the correlation function are the DataSet, num.bins and discretizationType. The default value of the last two is 3 and \"EW\". In the following example the correlation between the standardized wineData DataSet is computed.\n"
   ]
  },
  {
   "cell_type": "code",
   "execution_count": 17,
   "id": "2ab72703",
   "metadata": {},
   "outputs": [
    {
     "name": "stdout",
     "output_type": "stream",
     "text": [
      "[[ 1.          0.40036882 -0.360096   -0.52998158  0.34937507  0.0582239\n",
      "   0.10514007]\n",
      " [ 0.40036882  1.09439071  0.10264858  0.12943356  0.0694872   0.02751501\n",
      "   0.1561628 ]\n",
      " [-0.360096    0.10264858  1.          0.48744897  0.17908969  0.12763826\n",
      "   0.10179586]\n",
      " [-0.52998158  0.12943356  0.48744897  1.          0.39673597  0.0910056\n",
      "   0.11043564]\n",
      " [ 0.34937507  0.0694872   0.17908969  0.39673597  1.          0.12342519\n",
      "   0.0645761 ]\n",
      " [ 0.0582239   0.02751501  0.12763826  0.0910056   0.12342519  0.91824653\n",
      "   0.01192319]\n",
      " [ 0.10514007  0.1561628   0.10179586  0.11043564  0.0645761   0.01192319\n",
      "   1.00867734]]\n"
     ]
    }
   ],
   "source": [
    "print(wineDataStandardized.correlation())"
   ]
  },
  {
   "cell_type": "markdown",
   "id": "282c4790",
   "metadata": {},
   "source": [
    "With the correlationPlot function the correlation can be displayed graphically. The plot type used for that is a HeatMap that is darker where the correlation between the Attributes is higher."
   ]
  },
  {
   "cell_type": "code",
   "execution_count": 18,
   "id": "9b5c90cf",
   "metadata": {},
   "outputs": [
    {
     "data": {
      "image/png": "[encoded data removed]",
      "text/plain": [
       "<Figure size 432x288 with 2 Axes>"
      ]
     },
     "metadata": {
      "needs_background": "light"
     },
     "output_type": "display_data"
    }
   ],
   "source": [
    " graphics.correlationPlot(wineDataStandardized)"
   ]
  },
  {
   "cell_type": "markdown",
   "id": "aa7c8147",
   "metadata": {},
   "source": [
    "Another useful function of this package is the filter function. This function removes from the data the attributes with a correlation above the given threshold. If a function is passed through FUN parameter is given the filter function will apply the function to the data and remove the attributes that have a higher score than the threshold for the given function. Inverse parameter indicates whether the attributes have to be behind the thresshold in order to be removed, its default value is False. In the following example, first the attributes with a correlation higher than 0.4 are removed: Class.\n"
   ]
  },
  {
   "cell_type": "code",
   "execution_count": 28,
   "id": "01b92714",
   "metadata": {},
   "outputs": [
    {
     "name": "stdout",
     "output_type": "stream",
     "text": [
      "Alcohol \tMalid ac\tAlcalini\tMagnesiu\t Total p\t\n",
      "(13.773333333333333, inf)\t\t1.71\t\t15.6\t\t(126.66666666666666, inf)\t\t(2.8, 3.5)\t\t\n",
      "(12.716666666666667, 13.773333333333333)\t\t1.78\t\t11.2\t\t(-inf, 102.33333333333333)\t\t(-inf, 2.8)\t\t\n",
      "(12.716666666666667, 13.773333333333333)\t\t2.36\t\t18.6\t\t(-inf, 102.33333333333333)\t\t(2.8, 3.5)\t\t\n",
      "(13.773333333333333, inf)\t\t1.95\t\t16.8\t\t(102.33333333333333, 126.66666666666666)\t\t(2.95, inf)\t\t\n",
      "(12.716666666666667, 13.773333333333333)\t\t2.59\t\t21.0\t\t(102.33333333333333, 126.66666666666666)\t\t(2.8, 3.5)\t\t\n",
      "(13.773333333333333, inf)\t\t1.76\t\t15.2\t\t(102.33333333333333, 126.66666666666666)\t\t(2.95, inf)\t\t\n",
      "(13.773333333333333, inf)\t\t1.87\t\t14.6\t\t(-inf, 102.33333333333333)\t\t(-inf, 2.8)\t\t\n",
      "(13.773333333333333, inf)\t\t2.15\t\t17.6\t\t(102.33333333333333, 126.66666666666666)\t\t(-inf, 2.8)\t\t\n",
      "(13.773333333333333, inf)\t\t1.64\t\t14.0\t\t(-inf, 102.33333333333333)\t\t(2.8, 3.5)\t\t\n",
      "(13.773333333333333, inf)\t\t1.35\t\t16.0\t\t(-inf, 102.33333333333333)\t\t(2.95, inf)\t\t\n",
      "(13.773333333333333, inf)\t\t2.16\t\t18.0\t\t(102.33333333333333, 126.66666666666666)\t\t(2.95, inf)\t\t\n",
      "(13.773333333333333, inf)\t\t1.48\t\t16.8\t\t(-inf, 102.33333333333333)\t\t(-inf, 2.8)\t\t\n",
      "(12.716666666666667, 13.773333333333333)\t\t1.73\t\t16.0\t\t(-inf, 102.33333333333333)\t\t(-inf, 2.8)\t\t\n",
      "(13.773333333333333, inf)\t\t1.73\t\t11.4\t\t(-inf, 102.33333333333333)\t\t(2.95, inf)\t\t\n",
      "(13.773333333333333, inf)\t\t1.87\t\t12.0\t\t(-inf, 102.33333333333333)\t\t(2.95, inf)\t\t\n",
      "(12.716666666666667, 13.773333333333333)\t\t1.81\t\t17.2\t\t(102.33333333333333, 126.66666666666666)\t\t(2.8, 3.5)\t\t\n",
      "(13.773333333333333, inf)\t\t1.92\t\t20.0\t\t(102.33333333333333, 126.66666666666666)\t\t(2.8, 3.5)\t\t\n",
      "(13.773333333333333, inf)\t\t1.57\t\t20.0\t\t(102.33333333333333, 126.66666666666666)\t\t(2.95, inf)\t\t\n",
      "(13.773333333333333, inf)\t\t1.59\t\t16.5\t\t(102.33333333333333, 126.66666666666666)\t\t(2.95, inf)\t\t\n",
      "(12.716666666666667, 13.773333333333333)\t\t3.1\t\t15.2\t\t(102.33333333333333, 126.66666666666666)\t\t(-inf, 2.8)\t\t\n",
      "(-inf, 12.716666666666667)\t\t0.94\t\t10.6\t\t(-inf, 102.33333333333333)\t\t(-inf, 2.8)\t\t\n",
      "(-inf, 12.716666666666667)\t\t1.1\t\t16.0\t\t(-inf, 102.33333333333333)\t\t(-inf, 2.8)\t\t\n",
      "(-inf, 12.716666666666667)\t\t1.36\t\t16.8\t\t(-inf, 102.33333333333333)\t\t(-inf, 2.8)\t\t\n",
      "(12.716666666666667, 13.773333333333333)\t\t1.25\t\t18.0\t\t(-inf, 102.33333333333333)\t\t(-inf, 2.8)\t\t\n",
      "(-inf, 12.716666666666667)\t\t1.13\t\t19.0\t\t(-inf, 102.33333333333333)\t\t(2.95, inf)\t\t\n",
      "(-inf, 12.716666666666667)\t\t1.45\t\t19.0\t\t(102.33333333333333, 126.66666666666666)\t\t(-inf, 2.8)\t\t\n",
      "(-inf, 12.716666666666667)\t\t1.21\t\t18.1\t\t(-inf, 102.33333333333333)\t\t(-inf, 2.8)\t\t\n",
      "(12.716666666666667, 13.773333333333333)\t\t1.01\t\t15.0\t\t(-inf, 102.33333333333333)\t\t(2.95, inf)\t\t\n",
      "(-inf, 12.716666666666667)\t\t1.17\t\t19.6\t\t(-inf, 102.33333333333333)\t\t(-inf, 2.8)\t\t\n",
      "(12.716666666666667, 13.773333333333333)\t\t0.94\t\t17.0\t\t(102.33333333333333, 126.66666666666666)\t\t(-inf, 2.8)\t\t\n",
      "(-inf, 12.716666666666667)\t\t1.19\t\t16.8\t\t(126.66666666666666, inf)\t\t(-inf, 2.8)\t\t\n",
      "(-inf, 12.716666666666667)\t\t1.61\t\t20.4\t\t(102.33333333333333, 126.66666666666666)\t\t(-inf, 2.8)\t\t\n",
      "(13.773333333333333, inf)\t\t1.51\t\t25.0\t\t(-inf, 102.33333333333333)\t\t(2.95, inf)\t\t\n",
      "(12.716666666666667, 13.773333333333333)\t\t1.66\t\t24.0\t\t(-inf, 102.33333333333333)\t\t(-inf, 2.8)\t\t\n",
      "(12.716666666666667, 13.773333333333333)\t\t1.67\t\t30.0\t\t(126.66666666666666, inf)\t\t(2.95, inf)\t\t\n",
      "(-inf, 12.716666666666667)\t\t1.09\t\t21.0\t\t(-inf, 102.33333333333333)\t\t(2.95, inf)\t\t\n",
      "(-inf, 12.716666666666667)\t\t1.88\t\t16.0\t\t(-inf, 102.33333333333333)\t\t(-inf, 2.8)\t\t\n",
      "(12.716666666666667, 13.773333333333333)\t\t0.9\t\t16.0\t\t(-inf, 102.33333333333333)\t\t(-inf, 2.8)\t\t\n",
      "(-inf, 12.716666666666667)\t\t2.89\t\t18.0\t\t(102.33333333333333, 126.66666666666666)\t\t(-inf, 2.8)\t\t\n",
      "(-inf, 12.716666666666667)\t\t0.99\t\t14.8\t\t(126.66666666666666, inf)\t\t(-inf, 2.8)\t\t\n",
      "(-inf, 12.716666666666667)\t\t3.87\t\t23.0\t\t(-inf, 102.33333333333333)\t\t(2.8, 3.5)\t\t\n",
      "\n"
     ]
    }
   ],
   "source": [
    "filteredWineData=wineDataStandardized.filter(0.4)\n",
    "filteredWineData.printDataSet()"
   ]
  },
  {
   "cell_type": "markdown",
   "id": "0ecc1059",
   "metadata": {},
   "source": [
    "In the following example the attributes with a variance higher than 2 will be removed. If we compute the variance we see that the attributes that have to be removed are the fifth (Alcalinity of ash) and the 11th one (Color intensity)."
   ]
  },
  {
   "cell_type": "code",
   "execution_count": 39,
   "id": "355ef026",
   "metadata": {},
   "outputs": [
    {
     "name": "stdout",
     "output_type": "stream",
     "text": [
      "[None, 0.37029541939321836, 13.642629387269485, None, None]\n"
     ]
    },
    {
     "name": "stderr",
     "output_type": "stream",
     "text": [
      "/home/nuria/.local/lib/python3.8/site-packages/numpy/core/_methods.py:179: RuntimeWarning: invalid value encountered in reduce\n"
     ]
    },
    {
     "ename": "ValueError",
     "evalue": "list.remove(x): x not in list",
     "output_type": "error",
     "traceback": [
      "\u001b[0;31m---------------------------------------------------------------------------\u001b[0m",
      "\u001b[0;31mValueError\u001b[0m                                Traceback (most recent call last)",
      "\u001b[0;32m<ipython-input-39-3a8e849ab311>\u001b[0m in \u001b[0;36m<module>\u001b[0;34m\u001b[0m\n\u001b[1;32m      1\u001b[0m \u001b[0;32mimport\u001b[0m \u001b[0mnumpy\u001b[0m \u001b[0;32mas\u001b[0m \u001b[0mnp\u001b[0m\u001b[0;34m\u001b[0m\u001b[0;34m\u001b[0m\u001b[0m\n\u001b[1;32m      2\u001b[0m \u001b[0mprint\u001b[0m\u001b[0;34m(\u001b[0m\u001b[0mwineData\u001b[0m\u001b[0;34m.\u001b[0m\u001b[0mvariance\u001b[0m\u001b[0;34m(\u001b[0m\u001b[0;34m)\u001b[0m\u001b[0;34m)\u001b[0m\u001b[0;34m\u001b[0m\u001b[0;34m\u001b[0m\u001b[0m\n\u001b[0;32m----> 3\u001b[0;31m \u001b[0mfilteredWineData\u001b[0m\u001b[0;34m=\u001b[0m\u001b[0mwineData\u001b[0m\u001b[0;34m.\u001b[0m\u001b[0mfilter\u001b[0m\u001b[0;34m(\u001b[0m\u001b[0;36m13\u001b[0m\u001b[0;34m,\u001b[0m\u001b[0mnp\u001b[0m\u001b[0;34m.\u001b[0m\u001b[0mmean\u001b[0m\u001b[0;34m)\u001b[0m\u001b[0;34m\u001b[0m\u001b[0;34m\u001b[0m\u001b[0m\n\u001b[0m\u001b[1;32m      4\u001b[0m \u001b[0mfilteredWineData\u001b[0m\u001b[0;34m.\u001b[0m\u001b[0mprintDataSet\u001b[0m\u001b[0;34m(\u001b[0m\u001b[0;34m)\u001b[0m\u001b[0;34m\u001b[0m\u001b[0;34m\u001b[0m\u001b[0m\n",
      "\u001b[0;32m~/PycharmProjects/preprocesspack/preprocesspack/DataSet.py\u001b[0m in \u001b[0;36mfilter\u001b[0;34m(self, threshold, FUN, inverse)\u001b[0m\n\u001b[1;32m    227\u001b[0m                 \u001b[0melementos\u001b[0m\u001b[0;34m=\u001b[0m\u001b[0mlist\u001b[0m\u001b[0;34m(\u001b[0m\u001b[0mfilter\u001b[0m\u001b[0;34m(\u001b[0m\u001b[0;32mlambda\u001b[0m \u001b[0mx\u001b[0m\u001b[0;34m:\u001b[0m \u001b[0mx\u001b[0m \u001b[0;34m<\u001b[0m \u001b[0;36m3\u001b[0m\u001b[0;34m,\u001b[0m \u001b[0mresult\u001b[0m\u001b[0;34m)\u001b[0m\u001b[0;34m)\u001b[0m\u001b[0;34m\u001b[0m\u001b[0;34m\u001b[0m\u001b[0m\n\u001b[1;32m    228\u001b[0m             \u001b[0;32mfor\u001b[0m \u001b[0melem\u001b[0m \u001b[0;32min\u001b[0m \u001b[0melementos\u001b[0m\u001b[0;34m:\u001b[0m\u001b[0;34m\u001b[0m\u001b[0;34m\u001b[0m\u001b[0m\n\u001b[0;32m--> 229\u001b[0;31m                 \u001b[0mdata\u001b[0m\u001b[0;34m.\u001b[0m\u001b[0mdata\u001b[0m\u001b[0;34m.\u001b[0m\u001b[0mremove\u001b[0m\u001b[0;34m(\u001b[0m\u001b[0melem\u001b[0m\u001b[0;34m)\u001b[0m\u001b[0;34m\u001b[0m\u001b[0;34m\u001b[0m\u001b[0m\n\u001b[0m\u001b[1;32m    230\u001b[0m         \u001b[0;32mreturn\u001b[0m \u001b[0mdata\u001b[0m\u001b[0;34m\u001b[0m\u001b[0;34m\u001b[0m\u001b[0m\n\u001b[1;32m    231\u001b[0m \u001b[0;34m\u001b[0m\u001b[0m\n",
      "\u001b[0;31mValueError\u001b[0m: list.remove(x): x not in list"
     ]
    }
   ],
   "source": [
    "import numpy as np\n",
    "print(wineData.variance())\n",
    "filteredWineData=wineData.filter(13,np.mean)\n",
    "filteredWineData.printDataSet()"
   ]
  },
  {
   "cell_type": "markdown",
   "id": "d7cefda5",
   "metadata": {},
   "source": [
    "Using the RocAuc function the area behind the ROC curve can be calculated. The RocAuc function takes as parameters: a DataSet, a variable and a class index and returns the area behind the ROC curve. In order to visualize the curve, the function RocPlot plots the Roc curve of the given variable index. In the example the Iris dataset is loaded and the roc"
   ]
  },
  {
   "cell_type": "code",
   "execution_count": 20,
   "id": "dc6162c9",
   "metadata": {},
   "outputs": [
    {
     "name": "stdout",
     "output_type": "stream",
     "text": [
      "-0.6666666666666667\n"
     ]
    },
    {
     "data": {
      "image/png": "[encoded data removed]",
      "text/plain": [
       "<Figure size 640x480 with 1 Axes>"
      ]
     },
     "metadata": {},
     "output_type": "display_data"
    },
    {
     "name": "stdout",
     "output_type": "stream",
     "text": [
      "\n"
     ]
    }
   ],
   "source": [
    "    print(ds.rocAuc(1,2))\n",
    "graphics.rocPlot(ds,1,2)"
   ]
  }
 ],
 "metadata": {
  "kernelspec": {
   "display_name": "Python 3",
   "language": "python",
   "name": "python3"
  },
  "language_info": {
   "codemirror_mode": {
    "name": "ipython",
    "version": 3
   },
   "file_extension": ".py",
   "mimetype": "text/x-python",
   "name": "python",
   "nbconvert_exporter": "python",
   "pygments_lexer": "ipython3",
   "version": "3.8.8"
  }
 },
 "nbformat": 4,
 "nbformat_minor": 5
}
