{
 "cells": [
  {
   "cell_type": "markdown",
   "id": "742027b8",
   "metadata": {},
   "source": [
    "This tutorial provides simple examples to learn how to use the functions provided by Preprocesspack package. First we are going to load the modules needed."
   ]
  },
  {
   "cell_type": "code",
   "execution_count": 1,
   "id": "881880ca",
   "metadata": {},
   "outputs": [],
   "source": [
    "from preprocesspack import utils, Attribute, DataSet, graphics"
   ]
  },
  {
   "cell_type": "markdown",
   "id": "8081d41a",
   "metadata": {},
   "source": [
    "Once the modules are loaded we are going to start the tutorial by \n",
    "creating some attributes"
   ]
  },
  {
   "cell_type": "code",
   "execution_count": 2,
   "id": "f26e92da",
   "metadata": {},
   "outputs": [
    {
     "name": "stdout",
     "output_type": "stream",
     "text": [
      "age\n",
      "34\n",
      "16\n",
      "78\n",
      "90\n",
      "12\n"
     ]
    }
   ],
   "source": [
    "attr=Attribute.Attribute(name=\"age\",vector=[34,16,78,90,12])\n",
    "attrContinuous=Attribute.Attribute(name=\"mark\",vector=[1.2,3.4,6.7,8.9,4.7])\n",
    "attrPass=Attribute.Attribute(name=\"pass\",vector=[0,0,1,1,0])\n",
    "\n",
    "attr.printAttribute()"
   ]
  },
  {
   "cell_type": "markdown",
   "id": "4518b3c9",
   "metadata": {},
   "source": [
    "\n",
    "To create a DataSet we can add a previously defined attribute or pass a vector. The name of each column will be the attribute name."
   ]
  },
  {
   "cell_type": "code",
   "execution_count": 3,
   "id": "e59f7a7e",
   "metadata": {},
   "outputs": [
    {
     "name": "stdout",
     "output_type": "stream",
     "text": [
      "[34, 16, 78, 90, 12]\n",
      "[1.2, 3.4, 6.7, 8.9, 4.7]\n",
      "[0, 0, 1, 1, 0]\n"
     ]
    }
   ],
   "source": [
    "ds=DataSet.DataSet([],name=\"Students\")\n",
    "ds.addAttribute(attr)\n",
    "ds.addAttribute(attrContinuous)\n",
    "ds.addAttribute(attrPass)\n",
    "ds.printDataSet()"
   ]
  },
  {
   "cell_type": "markdown",
   "id": "a048d92a",
   "metadata": {},
   "source": [
    "The DataSet object can also be loaded from a csv file. The function loadDataSet loads the csv file content into a DataSet. In this example the loaded file is separated by , and the first row works as the column name for the file."
   ]
  },
  {
   "cell_type": "code",
   "execution_count": 4,
   "id": "1551ef6b",
   "metadata": {},
   "outputs": [
    {
     "name": "stdout",
     "output_type": "stream",
     "text": [
      "  Nombre  Edad  Genero\n",
      "0  Izaro    22       1\n",
      "1    Jon    25       0\n",
      "2  Miren    30       1\n",
      "3  Aitor    23       0\n",
      "['Izaro', 'Jon', 'Miren', 'Aitor']\n",
      "[22, 25, 30, 23]\n",
      "[1, 0, 1, 0]\n"
     ]
    }
   ],
   "source": [
    "loadedDs=DataSet.loadDataSet(\"preprocesspack/datos.csv\")\n",
    "loadedDs.printDataSet()"
   ]
  },
  {
   "cell_type": "markdown",
   "id": "d4d9dcd7",
   "metadata": {},
   "source": [
    "DataSet and Attribute objects can be discretized using the function discretize. This function computes two types of discretization: on the one hand, by assigning the \"EW\" value to the type parameter equal width discretization is computed. On the other hand, assigning \"EF\" value to the parameter computes equal width discretization. Num.bins parameter indicates how many intervals are going to be made. In the following example a complete DataSet and an Attribute are categorized.\n"
   ]
  },
  {
   "cell_type": "code",
   "execution_count": 5,
   "id": "3ec288e0",
   "metadata": {},
   "outputs": [
    {
     "name": "stdout",
     "output_type": "stream",
     "text": [
      "age\n",
      "(16, inf)\n",
      "(16, inf)\n",
      "(16, inf)\n",
      "(16, inf)\n",
      "(-inf, 34)\n",
      "age\n",
      "(-inf, 38.0)\n",
      "(-inf, 38.0)\n",
      "(64.0, inf)\n",
      "(64.0, inf)\n",
      "(-inf, 38.0)\n",
      "[(1.2, 3.4), (3.4, inf), (3.4, inf), (3.4, inf), (3.4, inf)]\n"
     ]
    }
   ],
   "source": [
    "attrCatEF=attr.discretize(3,\"EF\")\n",
    "attrCatEF.printAttribute()\n",
    "attrCatEW=attr.discretize(3,\"EW\")\n",
    "attrCatEW.printAttribute()\n",
    "\n",
    "dsDisc=ds.discretize(3,\"EF\",[1])\n",
    "dsDisc.printDataSet()"
   ]
  },
  {
   "cell_type": "markdown",
   "id": "1b9a8718",
   "metadata": {},
   "source": [
    "To standardize the data or an attribute the function standardize can be used. It returns the original attribute when applied to a discretized attribute. "
   ]
  },
  {
   "cell_type": "code",
   "execution_count": 6,
   "id": "cea711ae",
   "metadata": {},
   "outputs": [
    {
     "name": "stdout",
     "output_type": "stream",
     "text": [
      "age\n",
      "-0.3735436838188142\n",
      "-0.9338592095470355\n",
      "0.9961164901835046\n",
      "1.3696601740023189\n",
      "-1.0583737708199736\n",
      "age\n",
      "(-inf, 38.0)\n",
      "(-inf, 38.0)\n",
      "(64.0, inf)\n",
      "(64.0, inf)\n",
      "(-inf, 38.0)\n"
     ]
    }
   ],
   "source": [
    "attrStd=attr.standardize()\n",
    "attrStd.printAttribute()\n",
    "\n",
    "attrDiscStd=attrCatEW.standardize()\n",
    "attrDiscStd.printAttribute()\n"
   ]
  },
  {
   "cell_type": "markdown",
   "id": "dea982ec",
   "metadata": {},
   "source": [
    "The function normalize is used to normalize the data or an attribute. It returns the original attribute when applied to a categorical attribute.\n"
   ]
  },
  {
   "cell_type": "code",
   "execution_count": 7,
   "id": "baf6e02d",
   "metadata": {},
   "outputs": [
    {
     "name": "stdout",
     "output_type": "stream",
     "text": [
      "age\n",
      "-0.3735436838188142\n",
      "-0.9338592095470355\n",
      "0.9961164901835046\n",
      "1.3696601740023189\n",
      "-1.0583737708199736\n",
      "age\n",
      "(-inf, 38.0)\n",
      "(-inf, 38.0)\n",
      "(64.0, inf)\n",
      "(64.0, inf)\n",
      "(-inf, 38.0)\n"
     ]
    }
   ],
   "source": [
    "attrNorm=attr.standardize()\n",
    "attrNorm.printAttribute()\n",
    "\n",
    "attrNormStd=attrCatEW.standardize()\n",
    "attrNormStd.printAttribute()"
   ]
  },
  {
   "cell_type": "markdown",
   "id": "1860b83c",
   "metadata": {},
   "source": [
    "Entropy function computes the entropy of an Attribute or a complete DataSet. In the case of continuous variables it returns NA. The entropy of a given DataSet can be plotted using the entropyPlot function"
   ]
  },
  {
   "cell_type": "code",
   "execution_count": 8,
   "id": "2a3b4ed5",
   "metadata": {},
   "outputs": [
    {
     "name": "stdout",
     "output_type": "stream",
     "text": [
      "0.7219280948873623\n",
      "[2.321928094887362, None, 0.9709505944546686]\n"
     ]
    },
    {
     "data": {
      "image/png": "[encoded data removed]",
      "text/plain": [
       "<Figure size 432x288 with 1 Axes>"
      ]
     },
     "metadata": {
      "needs_background": "light"
     },
     "output_type": "display_data"
    }
   ],
   "source": [
    "print(attrCatEF.entropy())\n",
    "print (ds.entropy())\n",
    "\n",
    "graphics.entropyPlot(ds)"
   ]
  },
  {
   "cell_type": "markdown",
   "id": "808df945",
   "metadata": {},
   "source": [
    "The package also includes a function to compute the variance of a DataDet or Attribute and a function to plot the correlation between the variables of a dataset. The variance function returns a vector with the variance of each column of the DataSet or a value in the case of the Attribute. The correlation is shown in a heatmap where darker blue cells indicate a higher correlation between variables."
   ]
  },
  {
   "cell_type": "code",
   "execution_count": 9,
   "id": "821c2825",
   "metadata": {},
   "outputs": [
    {
     "name": "stdout",
     "output_type": "stream",
     "text": [
      "1032.0\n",
      "[1032.0, 7.0376, 0.24000000000000005]\n",
      "      0     1     2     3     4\n",
      "0  34.0  16.0  78.0  90.0  12.0\n",
      "1   1.2   3.4   6.7   8.9   4.7\n",
      "2   0.0   0.0   1.0   1.0   0.0\n",
      "          0         1         2         3         4\n",
      "0  1.000000  0.985250  0.999375  0.998792  0.933031\n",
      "1  0.985250  1.000000  0.990685  0.992469  0.980837\n",
      "2  0.999375  0.990685  1.000000  0.999905  0.945171\n",
      "3  0.998792  0.992469  0.999905  1.000000  0.949586\n",
      "4  0.933031  0.980837  0.945171  0.949586  1.000000\n"
     ]
    },
    {
     "data": {
      "image/png": "[encoded data removed]",
      "text/plain": [
       "<Figure size 432x288 with 2 Axes>"
      ]
     },
     "metadata": {
      "needs_background": "light"
     },
     "output_type": "display_data"
    }
   ],
   "source": [
    "print(attr.variance())\n",
    "print (ds.variance())\n",
    "graphics.correlationPlot(ds)"
   ]
  },
  {
   "cell_type": "markdown",
   "id": "d7cefda5",
   "metadata": {},
   "source": [
    "Using the RocAuc function the area behind the ROC curve can be calculated. The RocAuc function takes as parameters: a DataSet, a variable and a class index and returns the area behind the ROC curve. In order to visualize the curve, the function RocPlot plots the Roc curve of the given variable index. In the example the Iris dataset is loaded and the roc"
   ]
  },
  {
   "cell_type": "code",
   "execution_count": 12,
   "id": "dc6162c9",
   "metadata": {},
   "outputs": [
    {
     "name": "stdout",
     "output_type": "stream",
     "text": [
      "-0.6666666666666667\n"
     ]
    },
    {
     "data": {
      "image/png": "[encoded data removed]",
      "text/plain": [
       "<Figure size 640x480 with 1 Axes>"
      ]
     },
     "metadata": {},
     "output_type": "display_data"
    },
    {
     "name": "stdout",
     "output_type": "stream",
     "text": [
      "\n"
     ]
    }
   ],
   "source": [
    "    print(ds.rocAuc(1,2))\n",
    "graphics.rocPlot(ds,1,2)"
   ]
  }
 ],
 "metadata": {
  "kernelspec": {
   "display_name": "Python 3",
   "language": "python",
   "name": "python3"
  },
  "language_info": {
   "codemirror_mode": {
    "name": "ipython",
    "version": 3
   },
   "file_extension": ".py",
   "mimetype": "text/x-python",
   "name": "python",
   "nbconvert_exporter": "python",
   "pygments_lexer": "ipython3",
   "version": "3.8.8"
  }
 },
 "nbformat": 4,
 "nbformat_minor": 5
}
