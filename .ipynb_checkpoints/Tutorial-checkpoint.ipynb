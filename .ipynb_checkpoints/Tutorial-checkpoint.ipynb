{
 "cells": [
  {
   "cell_type": "markdown",
   "id": "742027b8",
   "metadata": {},
   "source": [
    "This tutorial provides simple examples to learn how to use the functions provided by Preprocesspack package. First we are going to load the modules needed."
   ]
  },
  {
   "cell_type": "code",
   "execution_count": 21,
   "id": "881880ca",
   "metadata": {},
   "outputs": [],
   "source": [
    "from preprocesspack import utils, Attribute, DataSet, graphics"
   ]
  },
  {
   "cell_type": "markdown",
   "id": "8081d41a",
   "metadata": {},
   "source": [
    "Once the modules are loaded we are going to start the tutorial by \n",
    "creating some attributes"
   ]
  },
  {
   "cell_type": "code",
   "execution_count": 24,
   "id": "f26e92da",
   "metadata": {},
   "outputs": [],
   "source": [
    "attr=Attribute.Attribute(name=\"age\",vector=[34,16,78,90,12])\n",
    "attrContinuous=Attribute.Attribute(name=\"mark\",vector=[1.2,3.4,6.7,8.9,4.7])\n",
    "#attr.printAttribute()"
   ]
  },
  {
   "cell_type": "markdown",
   "id": "2b28d383",
   "metadata": {},
   "source": [
    "\n",
    "To create a DataSet we can add a previously defined attribute or pass a vector. The name of each column will be the attribute name."
   ]
  },
  {
   "cell_type": "code",
   "execution_count": 28,
   "id": "87135c85",
   "metadata": {},
   "outputs": [
    {
     "name": "stdout",
     "output_type": "stream",
     "text": [
      "[34, 16, 78, 90, 12]\n",
      "[1.2, 3.4, 6.7, 8.9, 4.7]\n"
     ]
    }
   ],
   "source": [
    "ds=DataSet.DataSet([],name=\"Students\")\n",
    "ds.addAttribute(attr)\n",
    "ds.addAttribute(attrContinuous)\n",
    "ds.printDataSet()"
   ]
  },
  {
   "cell_type": "markdown",
   "id": "9f12283d",
   "metadata": {},
   "source": [
    "The DataSet object can also be loaded from a csv file. The function loadDataSet loads the csv file content into a DataSet. In this example the loaded file is separated by , and the first row works as the column name for the file."
   ]
  },
  {
   "cell_type": "code",
   "execution_count": 33,
   "id": "c2c944fa",
   "metadata": {},
   "outputs": [
    {
     "name": "stdout",
     "output_type": "stream",
     "text": [
      "  Nombre  Edad Genero\n",
      "0  Izaro    22      F\n",
      "1    Jon    25      M\n",
      "2  Miren    30      F\n",
      "3  Aitor    23      -\n",
      "['Izaro', 'Jon', 'Miren', 'Aitor']\n",
      "[22, 25, 30, 23]\n",
      "['F', 'M', 'F', '-']\n"
     ]
    }
   ],
   "source": [
    "loadedDs=DataSet.loadDataSet(\"preprocesspack/datos.csv\")\n",
    "loadedDs.printDataSet()"
   ]
  },
  {
   "cell_type": "markdown",
   "id": "0817dd45",
   "metadata": {},
   "source": [
    "The function normalize is used to normalize the data or an attribute. It returns the original attribute when applied to a categorical attribute."
   ]
  },
  {
   "cell_type": "code",
   "execution_count": 36,
   "id": "bac74c19",
   "metadata": {},
   "outputs": [
    {
     "name": "stdout",
     "output_type": "stream",
     "text": [
      "[1.83333333 0.33333333 5.5        6.5        0.        ]\n"
     ]
    }
   ],
   "source": [
    "attrNorm=attr.normalize()\n",
    "print(attrNorm.getVector())"
   ]
  },
  {
   "cell_type": "markdown",
   "id": "f3fcf84c",
   "metadata": {},
   "source": [
    "To standardize the data or an attribute the function standardize can be used. It returns the original attribute when applied to a factor type attribute."
   ]
  },
  {
   "cell_type": "code",
   "execution_count": null,
   "id": "09403ab1",
   "metadata": {},
   "outputs": [],
   "source": []
  },
  {
   "cell_type": "markdown",
   "id": "567210cf",
   "metadata": {},
   "source": [
    "Entropy function computes the entropy of an Attribute or a complete DataSet. In the case of continuous variables it returns NA. The entropy of a given DataSet can be plotted using the entropyPlot function"
   ]
  },
  {
   "cell_type": "code",
   "execution_count": null,
   "id": "63311eac",
   "metadata": {},
   "outputs": [],
   "source": []
  },
  {
   "cell_type": "markdown",
   "id": "b681c5f6",
   "metadata": {},
   "source": [
    "DataSet and Attribute objects can be discretized using the function discretize. This function computes two types of discretization: on the one hand, by assigning the \"EW\" value to the type parameter equal width discretization is computed. On the other hand, assigning \"EF\" value to the parameter computes equal width discretization. Num.bins parameter indicates how many ¿¿¿¿¿ are going to be made. In the following example a complete DataSet and an Attribute are categorized."
   ]
  },
  {
   "cell_type": "code",
   "execution_count": null,
   "id": "b06844a4",
   "metadata": {},
   "outputs": [],
   "source": []
  },
  {
   "cell_type": "markdown",
   "id": "8ba48fb7",
   "metadata": {},
   "source": [
    "The package also includes a function to compute the variance of a DataDet or Attribute and a function to plot the correlation between the variables of a dataset. The variance function returns a vector with the variance of each column of the DataSet or a value in the case of the Attribute. The correlation is shown in a heatmap where darker blue cells indicate a higher correlation between variables."
   ]
  },
  {
   "cell_type": "code",
   "execution_count": null,
   "id": "4e27fd4f",
   "metadata": {},
   "outputs": [],
   "source": []
  },
  {
   "cell_type": "markdown",
   "id": "184fa2b8",
   "metadata": {},
   "source": [
    "Using the RocAuc function the area behind the ROC curve can be calculated. The RocAuc function takes as parameters: a DataSet, a variable and a class index and returns the area behind the ROC curve. In order to visualize the curve, the function RocPlot plots the Roc curve of the given variable index. In the example the Iris dataset is loaded and the roc"
   ]
  },
  {
   "cell_type": "code",
   "execution_count": null,
   "id": "68365a99",
   "metadata": {},
   "outputs": [],
   "source": []
  }
 ],
 "metadata": {
  "kernelspec": {
   "display_name": "Python 3",
   "language": "python",
   "name": "python3"
  },
  "language_info": {
   "codemirror_mode": {
    "name": "ipython",
    "version": 3
   },
   "file_extension": ".py",
   "mimetype": "text/x-python",
   "name": "python",
   "nbconvert_exporter": "python",
   "pygments_lexer": "ipython3",
   "version": "3.8.8"
  }
 },
 "nbformat": 4,
 "nbformat_minor": 5
}
